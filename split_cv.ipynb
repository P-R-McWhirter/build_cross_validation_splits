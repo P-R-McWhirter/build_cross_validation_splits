{
 "cells": [
  {
   "cell_type": "code",
   "execution_count": 1,
   "metadata": {},
   "outputs": [],
   "source": [
    "# Imports\n",
    "from __future__ import print_function\n",
    "import numpy as np\n",
    "import pandas as pd\n",
    "import os\n",
    "from sklearn.model_selection import train_test_split\n",
    "from sklearn import preprocessing\n",
    "import matplotlib.pyplot as plt\n",
    "from sklearn.metrics import confusion_matrix\n",
    "import gc\n",
    "import itertools\n",
    "import cv2\n",
    "from shutil import copy2\n",
    "%matplotlib inline\n",
    "\n",
    "gc.enable()"
   ]
  },
  {
   "cell_type": "code",
   "execution_count": 2,
   "metadata": {},
   "outputs": [],
   "source": [
    "k_fold = 5\n",
    "\n",
    "imgs = []\n",
    "cwd = os.getcwd()\n",
    "\n",
    "for file in os.listdir(cwd):\n",
    "    if file.endswith(\".png\"):\n",
    "        imgs.append(file)"
   ]
  },
  {
   "cell_type": "code",
   "execution_count": 3,
   "metadata": {},
   "outputs": [],
   "source": [
    "splitamount = round(len(imgs)/k_fold)\n",
    "\n",
    "splitvec = np.arange(0, (k_fold+1)*splitamount, step = splitamount)\n",
    "\n",
    "splitvec[len(splitvec)-1] = len(imgs)"
   ]
  },
  {
   "cell_type": "code",
   "execution_count": 4,
   "metadata": {},
   "outputs": [
    {
     "data": {
      "text/plain": [
       "array([   0,  312,  624,  936, 1248, 1559])"
      ]
     },
     "execution_count": 4,
     "metadata": {},
     "output_type": "execute_result"
    }
   ],
   "source": [
    "splitvec"
   ]
  },
  {
   "cell_type": "code",
   "execution_count": 5,
   "metadata": {},
   "outputs": [],
   "source": [
    "for k in range(0, k_fold):\n",
    "    \n",
    "    new_folder = 'train_' + str(k+1)\n",
    "    \n",
    "    if not os.path.exists(new_folder):\n",
    "        os.makedirs(new_folder)\n",
    "        \n",
    "    subimgs = imgs[splitvec[k]:(splitvec[k+1]-1)]\n",
    "    \n",
    "    for file in subimgs:\n",
    "        \n",
    "        copy2(cwd + '\\\\' + file, cwd + '\\\\' + new_folder)\n",
    "        \n",
    "        copy2(cwd + '\\\\' + file[:-4] + '.txt', cwd + '\\\\' + new_folder)"
   ]
  }
 ],
 "metadata": {
  "kernelspec": {
   "display_name": "TensorFlow-GPU",
   "language": "python",
   "name": "tf-gpu"
  },
  "language_info": {
   "codemirror_mode": {
    "name": "ipython",
    "version": 3
   },
   "file_extension": ".py",
   "mimetype": "text/x-python",
   "name": "python",
   "nbconvert_exporter": "python",
   "pygments_lexer": "ipython3",
   "version": "3.5.6"
  }
 },
 "nbformat": 4,
 "nbformat_minor": 2
}
